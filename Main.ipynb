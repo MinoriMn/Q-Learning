{
 "cells": [
  {
   "cell_type": "code",
   "execution_count": 1,
   "metadata": {},
   "outputs": [],
   "source": [
    "#!/usr/bin/env python\n",
    "# -*- coding: utf-8 -*-\n",
    "%matplotlib notebook\n",
    "from Reinforcement_Learning import *\n",
    "from Maze import *\n",
    "from DrawMaze import *\n",
    "import cv2\n",
    "import matplotlib.pyplot as plt\n",
    "import csv"
   ]
  },
  {
   "cell_type": "code",
   "execution_count": 2,
   "metadata": {},
   "outputs": [
    {
     "name": "stdout",
     "output_type": "stream",
     "text": [
      "＃＃＃＃＃＃＃＃＃＃＃＃＃＃＃＃＃＃＃＃＃\n",
      "＃Ｓ　　　　　　　　　　　　＃　　　　　＃\n",
      "＃　＃＃＃　＃＃＃＃＃＃＃＃＃　＃＃＃　＃\n",
      "＃　＃　＃　　　　　＃　　　　　＃　＃　＃\n",
      "＃　＃　＃＃＃＃＃　＃　＃　＃　＃　＃＃＃\n",
      "＃　＃　　　＃　＃　＃　＃　＃　　　　　＃\n",
      "＃　＃　＃　＃　＃　＃　＃＃＃　＃＃＃＃＃\n",
      "＃　　　＃　＃　＃　　　　　＃　　　　　＃\n",
      "＃＃＃　＃　＃　＃＃＃＃＃　＃＃＃　＃＃＃\n",
      "＃　＃　＃　　　＃　　　＃　　　＃　＃　＃\n",
      "＃　＃　＃　＃＃＃　＃＃＃　＃＃＃＃＃　＃\n",
      "＃　　　＃　　　　　＃　＃　　　　　　　＃\n",
      "＃＃＃　＃＃＃　＃＃＃　＃＃＃　＃＃＃＃＃\n",
      "＃　　　＃　＃　＃　　　＃　＃　＃　　　＃\n",
      "＃　＃＃＃　＃　＃　＃＃＃　＃　＃　＃　＃\n",
      "＃　　　　　＃　　　　　＃　＃　＃　＃　＃\n",
      "＃　＃　＃　＃＃＃＃＃　＃　＃　＃　＃　＃\n",
      "＃　＃　＃　　　＃　＃　　　＃　　　＃　＃\n",
      "＃　＃＃＃＃＃　＃　＃＃＃＃＃＃＃　＃＃＃\n",
      "＃　　　　　＃　　　　　　　　　＃　　Ｇ＃\n",
      "＃＃＃＃＃＃＃＃＃＃＃＃＃＃＃＃＃＃＃＃＃\n"
     ]
    }
   ],
   "source": [
    "PATH = 0 #道\n",
    "WALL = 1 #壁\n",
    "STR = 'S' #スタート\n",
    "GOL = 'G' #ゴール\n",
    "# mazeRead, mazeWrite, mazeDataFile = False, True, 'input/maze.csv'\n",
    "mazeRead, mazeWrite, mazeDataFile = True, False, 'input/maze.csv'\n",
    "if mazeRead:\n",
    "    #迷路読み込み\n",
    "    mazeData = []\n",
    "    with open(mazeDataFile) as f:\n",
    "        reader = csv.reader(f)\n",
    "        for row in reader:\n",
    "            mazeData.append(row)\n",
    "    maze = Maze(mazeData, 1)\n",
    "else:\n",
    "    #迷路生成\n",
    "    mWidth, mHeight = 20, 20\n",
    "    maze = Maze([mWidth, mHeight], 0)\n",
    "    maze.set_out_wall()\n",
    "    maze.set_inner_wall_botaoshi()\n",
    "    maze.set_start_goal()\n",
    "    \n",
    "maze.print_maze()\n",
    "#迷路保存\n",
    "if mazeWrite:\n",
    "    maze.export_csv(mazeDataFile)\n",
    "mWidth, mHeight = maze.get_width_height()\n",
    "# 迷路データ maze.maze[x][y]"
   ]
  },
  {
   "cell_type": "code",
   "execution_count": null,
   "metadata": {},
   "outputs": [],
   "source": [
    "# 強化学習\n",
    "# q値更新\n",
    "learningRate = 0.1 #学習係数α\n",
    "discountRate = 0.9 #割引率γ\n",
    "qUpdate = QLearning(learningRate, discountRate) # Q学習\n",
    "\n",
    "#行動選択方法\n",
    "ep = 0.3 #ε\n",
    "actionSelect = EpGreedy(ep) #ε-greedy \n",
    "\n",
    "learning = ReinforcementLearning(mWidth, mHeight, qUpdate, actionSelect)"
   ]
  },
  {
   "cell_type": "code",
   "execution_count": null,
   "metadata": {},
   "outputs": [],
   "source": [
    "#壁でないか確認\n",
    "def is_not_wall(x, y):\n",
    "    if maze.maze[x][y] == WALL:\n",
    "        return False\n",
    "    else:\n",
    "        return True"
   ]
  },
  {
   "cell_type": "code",
   "execution_count": null,
   "metadata": {},
   "outputs": [],
   "source": [
    "# 迷路描画機能\n",
    "imgW = 800\n",
    "imgH = 800\n",
    "draw = DrawMaze(imgW, imgH, maze.maze)"
   ]
  },
  {
   "cell_type": "code",
   "execution_count": null,
   "metadata": {},
   "outputs": [],
   "source": [
    "# 学習初期化\n",
    "str_x, str_y = maze.get_start() #TODO Start位置の取得関数\n",
    "gol_x, gol_y = maze.get_goal() #TODO Goal位置の取得関数\n",
    "gol_reward = 30 #成功報酬\n",
    "sx, sy = str_x, str_y\n",
    "maxAction = 10000 # 最大行動数\n",
    "maxResetAction = (mWidth + mHeight) * 30 # リセットになる行動回数\n",
    "resetAction = 0"
   ]
  },
  {
   "cell_type": "code",
   "execution_count": null,
   "metadata": {
    "scrolled": false
   },
   "outputs": [],
   "source": [
    "for t in range(0, maxAction):\n",
    "    # 次の行動を決定\n",
    "    while True:\n",
    "        nx, ny, action = learning.get_next_state(sx, sy)\n",
    "        # 今回は次の行動が壁の時はキャンセルする\n",
    "        if is_not_wall(nx, ny):\n",
    "            break\n",
    "    \n",
    "    # Q値更新\n",
    "    sq = learning.get_q_val(sx, sy, action)\n",
    "    na, nq = learning.get_q_max_val(nx, ny)\n",
    "    reward = gol_reward if (nx == gol_x and ny == gol_y) else 0\n",
    "    p = [sq, nq, reward]\n",
    "    learning.update_q_val(sx, sy, action, p)\n",
    "    \n",
    "    # 迷路描画\n",
    "    draw.drawMaze(learning, gol_reward, sx, sy, nx, ny)\n",
    "    sx, sy = nx, ny\n",
    "    \n",
    "    resetAction = resetAction + 1\n",
    "    # リセット回数に達している、またはゴールならばスタートに戻る\n",
    "    if (resetAction >= maxResetAction) or (sx == gol_x and sy == gol_y):\n",
    "        resetAction = 0\n",
    "        sx, sy = str_x, str_y    "
   ]
  },
  {
   "cell_type": "code",
   "execution_count": null,
   "metadata": {},
   "outputs": [],
   "source": [
    "#結果出力(動画)\n",
    "# encoder(for mp4)\n",
    "fourcc = cv2.VideoWriter_fourcc('m', 'p', '4', 'v')\n",
    "# output file name, encoder, fps, size(fit to image size)\n",
    "video = cv2.VideoWriter('video.mp4',fourcc, 120.0, (imgW, imgH))\n",
    "if not video.isOpened():\n",
    "    print(\"can't be opened\")\n",
    "    sys.exit()\n",
    "    \n",
    "for i in range(0, maxAction):\n",
    "    # hoge0000.png, hoge0001.png,..., hoge0090.png\n",
    "    img = cv2.imread('output/images/img_' + str(i)+ '.jpg')\n",
    "\n",
    "    # can't read image, escape\n",
    "    if img is None:\n",
    "        print(\"can't read\")\n",
    "        break\n",
    "\n",
    "    # add\n",
    "    video.write(img)\n",
    "    print(\"read image \" + str(i))\n",
    "\n",
    "video.release()\n",
    "print('written')"
   ]
  }
 ],
 "metadata": {
  "kernelspec": {
   "display_name": "Python 3",
   "language": "python",
   "name": "python3"
  },
  "language_info": {
   "codemirror_mode": {
    "name": "ipython",
    "version": 3
   },
   "file_extension": ".py",
   "mimetype": "text/x-python",
   "name": "python",
   "nbconvert_exporter": "python",
   "pygments_lexer": "ipython3",
   "version": "3.7.4"
  }
 },
 "nbformat": 4,
 "nbformat_minor": 2
}
