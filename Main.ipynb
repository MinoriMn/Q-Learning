{
 "cells": [
  {
   "cell_type": "code",
   "execution_count": 1,
   "metadata": {},
   "outputs": [],
   "source": [
    "from Reinforcement_Learning import *\n",
    "from Maze import *"
   ]
  },
  {
   "cell_type": "code",
   "execution_count": 2,
   "metadata": {},
   "outputs": [
    {
     "name": "stdout",
     "output_type": "stream",
     "text": [
      "＃＃＃＃＃＃＃＃＃＃＃＃＃＃＃＃＃＃＃＃＃\n",
      "＃Ｓ　　＃　＃　　　　　＃　　　　　　　＃\n",
      "＃＃＃　＃　＃　＃　＃＃＃　＃　＃　＃　＃\n",
      "＃　＃　＃　　　＃　　　＃　＃　＃　＃　＃\n",
      "＃　＃　＃　＃＃＃＃＃＃＃　＃＃＃　＃＃＃\n",
      "＃　＃　　　　　＃　　　　　＃　＃　　　＃\n",
      "＃　＃　＃　＃＃＃　＃＃＃＃＃　＃＃＃　＃\n",
      "＃　＃　＃　＃　　　　　＃　　　＃　＃　＃\n",
      "＃　＃　＃＃＃　＃　＃　＃　＃＃＃　＃　＃\n",
      "＃　　　　　＃　＃　＃　　　　　＃　＃　＃\n",
      "＃　＃＃＃＃＃　＃＃＃　＃　＃＃＃　＃＃＃\n",
      "＃　　　＃　　　　　＃　＃　＃　　　＃　＃\n",
      "＃＃＃　＃　＃＃＃　＃　＃＃＃　＃＃＃　＃\n",
      "＃　　　　　＃　＃　＃　　　　　＃　　　＃\n",
      "＃＃＃　＃＃＃　＃　＃＃＃＃＃＃＃　＃　＃\n",
      "＃　＃　　　＃　＃　　　　　　　　　＃　＃\n",
      "＃　＃　＃　＃　＃　＃＃＃＃＃　＃　＃　＃\n",
      "＃　　　＃　　　＃　　　＃　＃　＃　＃　＃\n",
      "＃　＃＃＃＃＃＃＃　＃＃＃　＃＃＃＃＃＃＃\n",
      "＃　　　　　　　＃　　　　　　　　　　Ｇ＃\n",
      "＃＃＃＃＃＃＃＃＃＃＃＃＃＃＃＃＃＃＃＃＃\n"
     ]
    }
   ],
   "source": [
    "#迷路生成\n",
    "PATH = 0 #道\n",
    "WALL = 1 #壁\n",
    "STR = 'S' #スタート\n",
    "GOL = 'G' #ゴール\n",
    "mWidth, mHeight = 20, 20\n",
    "maze = Maze(mWidth, mHeight)\n",
    "maze.set_out_wall()\n",
    "maze.set_inner_wall_botaoshi()\n",
    "maze.set_start_goal()\n",
    "maze.print_maze()\n",
    "mWidth, mHeight = maze.get_width_height()\n",
    "# 迷路データ maze.maze[x][y]"
   ]
  },
  {
   "cell_type": "code",
   "execution_count": 3,
   "metadata": {},
   "outputs": [],
   "source": [
    "# 強化学習\n",
    "# q値更新\n",
    "learningRate = 0.1 #学習係数α\n",
    "discountRate = 0.9 #割引率γ\n",
    "qUpdate = QLearning(learningRate, discountRate) # Q学習\n",
    "\n",
    "#行動選択方法\n",
    "ep = 0.3 #ε\n",
    "actionSelect = EpGreedy(ep) #ε-greedy \n",
    "\n",
    "learning = ReinforcementLearning(mWidth, mHeight, qUpdate, actionSelect)"
   ]
  },
  {
   "cell_type": "code",
   "execution_count": 4,
   "metadata": {},
   "outputs": [],
   "source": [
    "#壁でないか確認\n",
    "def is_not_wall(x, y):\n",
    "    if maze.maze[x][y] == WALL:\n",
    "        return False\n",
    "    else:\n",
    "        return True"
   ]
  },
  {
   "cell_type": "code",
   "execution_count": 5,
   "metadata": {},
   "outputs": [],
   "source": [
    "# 学習初期化\n",
    "str_x, str_y = maze.get_start() #TODO Start位置の取得関数\n",
    "gol_x, gol_y = maze.get_goal() #TODO Goal位置の取得関数\n",
    "gol_reward = 30 #成功報酬\n",
    "sx, sy = str_x, str_y\n",
    "maxAction = 500 # 最大行動数\n",
    "maxResetAction = (mWidth + mHeight) * 3 # リセットになる行動回数\n",
    "resetAction = 0"
   ]
  },
  {
   "cell_type": "code",
   "execution_count": 6,
   "metadata": {},
   "outputs": [],
   "source": [
    "for t in range(0, maxAction):\n",
    "    # 次の行動を決定\n",
    "    while True:\n",
    "        nx, ny, action = learning.get_next_state(sx, sy)\n",
    "        # 今回は次の行動が壁の時はキャンセルする\n",
    "        if is_not_wall(nx, ny):\n",
    "            break\n",
    "    # Q値更新\n",
    "    sq = learning.get_q_val(sx, sy, action)\n",
    "    na, nq = learning.get_q_max_val(nx, ny)\n",
    "    reward = gol_reward if (nx == gol_x and ny == gol_y) else 0\n",
    "    p = [sq, nq, reward]\n",
    "    learning.update_q_val(sx, sy, action, p)\n",
    "    # TODO 迷路描画\n",
    "    sx, sy = nx, ny\n",
    "        "
   ]
  },
  {
   "cell_type": "code",
   "execution_count": 7,
   "metadata": {},
   "outputs": [
    {
     "name": "stdout",
     "output_type": "stream",
     "text": [
      "1 19\n"
     ]
    }
   ],
   "source": [
    "print(str_x, gol_y)"
   ]
  },
  {
   "cell_type": "code",
   "execution_count": null,
   "metadata": {},
   "outputs": [],
   "source": []
  }
 ],
 "metadata": {
  "kernelspec": {
   "display_name": "Python 3",
   "language": "python",
   "name": "python3"
  },
  "language_info": {
   "codemirror_mode": {
    "name": "ipython",
    "version": 3
   },
   "file_extension": ".py",
   "mimetype": "text/x-python",
   "name": "python",
   "nbconvert_exporter": "python",
   "pygments_lexer": "ipython3",
   "version": "3.7.4"
  }
 },
 "nbformat": 4,
 "nbformat_minor": 2
}
