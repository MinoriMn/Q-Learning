{
 "cells": [
  {
   "cell_type": "markdown",
   "metadata": {},
   "source": [
    "# 迷路描画"
   ]
  },
  {
   "cell_type": "code",
   "execution_count": 1,
   "metadata": {},
   "outputs": [],
   "source": [
    "from PIL import Image, ImageDraw\n",
    "from Reinforcement_Learning import Action"
   ]
  },
  {
   "cell_type": "code",
   "execution_count": 2,
   "metadata": {},
   "outputs": [],
   "source": [
    "class DrawMaze:\n",
    "    PATH = 0 #道\n",
    "    WALL = 1 #壁\n",
    "    STR = 'S' #スタート\n",
    "    GOL = 'G' #ゴール\n",
    "    wallColor = (16, 16, 16) #壁の色\n",
    "    pathColor = (255, 255, 255) #道の色\n",
    "    qMaxColor = (255, 165, 0) # Q値の色\n",
    "    thisStateColor = (0, 255, 0) # 現在ステートの枠の色\n",
    "    nextStateColor = (0, 128, 0) # 次回ステートの枠の色\n",
    "    textColor = (0, 0, 0) # テキストの色\n",
    "    outLineWidth = 4\n",
    "    \n",
    "    def __init__(self, imgW, imgH, maze):\n",
    "        self.imgW = imgW\n",
    "        self.imgH = imgH\n",
    "        self.mazeW = len(maze)\n",
    "        self.mazeH = len(maze[0])\n",
    "        self.maze = maze\n",
    "        # ひとマスのサイズ\n",
    "        self.cW = self.imgW / self.mazeW \n",
    "        self.cH = self.imgH / self.mazeH\n",
    "        # 文字定義\n",
    "        im = Image.new('RGB', (self.imgW, self.imgH), pathColor)\n",
    "        draw = ImageDraw.Draw(im)\n",
    "        msg = ['↑', '↓', '→', '←', 'S', 'G']\n",
    "        self.textData = []\n",
    "        for i in range(0, len(msg)):\n",
    "            w, h = draw.textsize(msg)\n",
    "            self.textData.append([msg[i], w, h])\n",
    "        \n",
    "    def drawMaze(self, qVal, qMax, sx, sy, nx, ny):\n",
    "        im = Image.new('RGB', (self.imgW, self.imgH), pathColor)\n",
    "        draw = ImageDraw.Draw(im)\n",
    "        \n",
    "        for x in range(0, self.mazeW):\n",
    "            for y in range(0, self.mazeH):\n",
    "                m = self.maze[x][y]\n",
    "                if m == WALL:\n",
    "                    draw.rectangle((x * self.cW, y * self.cH, (x + 1) * self.cW, (y + 1) * self.cH), fill=wallColor, outline=wallColor)\n",
    "                else:\n",
    "                    v = qVal[x][y]\n",
    "                    color = [pc * v + qc * (qMax - v) for (pc, qc) in zip(pathColor, qMaxColor)]\n",
    "                    color = list(map(lambda c: c / qMax, color))\n",
    "                    # マス描画\n",
    "                    if x == sx and y == sy:\n",
    "                        draw.rectangle((x * self.cW, y * self.cH, (x + 1) * self.cW, (y + 1) * self.cH), fill=thisStateColor, outline=thisStateColor)\n",
    "                        draw.rectangle((x * self.cW + outLineWidth, y * self.cH + outLineWidth, (x + 1) * self.cW - outLineWidth, (y + 1) * self.cH - outLineWidth), fill=color, outline=color)\n",
    "                    elif x == nx and y == ny:\n",
    "                        draw.rectangle((x * self.cW, y * self.cH, (x + 1) * self.cW, (y + 1) * self.cH), fill=nextStateColor, outline=nextStateColor)\n",
    "                        draw.rectangle((x * self.cW + outLineWidth, y * self.cH + outLineWidth, (x + 1) * self.cW - outLineWidth, (y + 1) * self.cH - outLineWidth), fill=color, outline=color)\n",
    "                    else:\n",
    "                        draw.rectangle((x * self.cW, y * self.cH, (x + 1) * self.cW, (y + 1) * self.cH), fill=color, outline=color)\n",
    "                        \n",
    "                    # 文字描画\n",
    "                    if self.maze[x][y] == STR: #スタート\n",
    "                        draw.text((x * self.cW + (self.cW - self.textData[4][1]) / 2, draw_y + (self.cH - self.textData[4][2]) / 2), self.textData[4][0], font=font, fill=textColor)\n",
    "                    elif self.maze[x][y] == GOL: #ゴール\n",
    "                        draw.text((x * self.cW + (self.cW - self.textData[5][1]) / 2, draw_y + (self.cH - self.textData[5][2]) / 2), self.textData[5][0], font=font, fill=textColor)\n",
    "                    \n",
    "                    actionMax = qVal[x][y][Action.MAX]\n",
    "                    if actionMax & Action.UP > 0: #UP\n",
    "                        draw.text((x * self.cW + (self.cW - self.textData[0][1]) / 2, draw_y + (self.cH - self.textData[0][2]) / 2), self.textData[0][0], font=font, fill=textColor)\n",
    "                    if actionMax & Action.DOWN > 0: #DOWN\n",
    "                        draw.text((x * self.cW + (self.cW - self.textData[1][1]) / 2, draw_y + (self.cH - self.textData[1][2]) / 2), self.textData[1][0], font=font, fill=textColor)\n",
    "                    if actionMax & Action.RIGHT > 0: #RIGHT\n",
    "                        draw.text((x * self.cW + (self.cW - self.textData[2][1]) / 2, draw_y + (self.cH - self.textData[2][2]) / 2), self.textData[2][0], font=font, fill=textColor)\n",
    "                    if actionMax & Action.LEFT > 0: #LEFT\n",
    "                        draw.text((x * self.cW + (self.cW - self.textData[3][1]) / 2, draw_y + (self.cH - self.textData[3][2]) / 2), self.textData[3][0], font=font, fill=textColor)"
   ]
  },
  {
   "cell_type": "code",
   "execution_count": null,
   "metadata": {},
   "outputs": [],
   "source": []
  }
 ],
 "metadata": {
  "kernelspec": {
   "display_name": "Python 3",
   "language": "python",
   "name": "python3"
  },
  "language_info": {
   "codemirror_mode": {
    "name": "ipython",
    "version": 3
   },
   "file_extension": ".py",
   "mimetype": "text/x-python",
   "name": "python",
   "nbconvert_exporter": "python",
   "pygments_lexer": "ipython3",
   "version": "3.7.4"
  }
 },
 "nbformat": 4,
 "nbformat_minor": 2
}
