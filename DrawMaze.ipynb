{
 "cells": [
  {
   "cell_type": "markdown",
   "metadata": {},
   "source": [
    "# 迷路描画"
   ]
  },
  {
   "cell_type": "code",
   "execution_count": 1,
   "metadata": {},
   "outputs": [],
   "source": [
    "from PIL import Image, ImageDraw, ImageFont\n",
    "from Reinforcement_Learning import Action\n",
    "import numpy as np"
   ]
  },
  {
   "cell_type": "code",
   "execution_count": 2,
   "metadata": {},
   "outputs": [],
   "source": [
    "class DrawMaze:\n",
    "    PATH = 0 #道\n",
    "    WALL = 1 #壁\n",
    "    STR = 'S' #スタート\n",
    "    GOL = 'G' #ゴール\n",
    "    def __init__(self, imgW, imgH, maze):\n",
    "        self.wallColor = (16, 16, 16) #壁の色\n",
    "        self.pathColor = (255, 255, 255) #道の色\n",
    "        self.qMaxColor = (255, 165, 0) # Q値の色\n",
    "        self.thisStateColor = (0, 255, 0) # 現在ステートの枠の色\n",
    "        self.nextStateColor = (0, 128, 0) # 次回ステートの枠の色\n",
    "        self.textColor = (0, 0, 0) # テキストの色\n",
    "        self.outLineWidth = 4\n",
    "        \n",
    "        self.imgW = imgW\n",
    "        self.imgH = imgH\n",
    "        self.mazeW = len(maze)\n",
    "        self.mazeH = len(maze[0])\n",
    "        self.maze = maze\n",
    "        # ひとマスのサイズ\n",
    "        self.cW = int(self.imgW / self.mazeW)\n",
    "        self.cH = int(self.imgH / self.mazeH)\n",
    "        # 文字定義\n",
    "        im = Image.new('RGB', (self.imgW, self.imgH), self.pathColor)\n",
    "        draw = ImageDraw.Draw(im)\n",
    "        texts = [\"↑\", \"↓\", \"→\", \"←\", \"S\", \"G\"]\n",
    "        self.textData = []\n",
    "        self.font_ttf = \"/System/Library/Fonts/ヒラギノ丸ゴ ProN W4.ttc\"\n",
    "        draw.font = ImageFont.truetype(self.font_ttf, min(self.cW, self.cH))\n",
    "        for text in texts:\n",
    "            w, h = draw.textsize(text)\n",
    "            self.textData.append([text, w, h])\n",
    "        # 出力画像\n",
    "        self.imgIdx = 0\n",
    "        \n",
    "    # 迷路描画\n",
    "    def drawMaze(self, learning, qMax, sx, sy, nx, ny):\n",
    "        im = Image.new('RGB', (self.imgW, self.imgH), self.pathColor)\n",
    "        draw = ImageDraw.Draw(im)\n",
    "        draw.font = ImageFont.truetype(self.font_ttf, min(self.cW, self.cH))\n",
    "        \n",
    "        # マスごとに描画\n",
    "        for x in range(0, self.mazeW):\n",
    "            for y in range(0, self.mazeH):\n",
    "                m = self.maze[x][y]\n",
    "                if m == self.WALL:\n",
    "                    draw.rectangle((x * self.cW, y * self.cH, (x + 1) * self.cW, (y + 1) * self.cH), fill=self.wallColor, outline=self.wallColor)\n",
    "                else:\n",
    "                    _action, v = learning.get_q_max_val(x, y)\n",
    "                    color = [qc * v + pc * (qMax - v) for (qc, pc) in zip(self.qMaxColor, self.pathColor)]\n",
    "                    color = tuple(map(lambda c: int(c / qMax), color))\n",
    "                    # マス描画\n",
    "                    if x == sx and y == sy:\n",
    "                        draw.rectangle((x * self.cW, y * self.cH, (x + 1) * self.cW, (y + 1) * self.cH), fill=self.thisStateColor, outline=self.thisStateColor)\n",
    "                        draw.rectangle((x * self.cW + self.outLineWidth, y * self.cH + self.outLineWidth, (x + 1) * self.cW - self.outLineWidth, (y + 1) * self.cH - self.outLineWidth), fill=color, outline=color)\n",
    "                    elif x == nx and y == ny:\n",
    "                        draw.rectangle((x * self.cW, y * self.cH, (x + 1) * self.cW, (y + 1) * self.cH), fill=self.nextStateColor, outline=self.nextStateColor)\n",
    "                        draw.rectangle((x * self.cW + self.outLineWidth, y * self.cH + self.outLineWidth, (x + 1) * self.cW - self.outLineWidth, (y + 1) * self.cH - self.outLineWidth), fill=color, outline=color)\n",
    "                    else:\n",
    "                        draw.rectangle((x * self.cW, y * self.cH, (x + 1) * self.cW, (y + 1) * self.cH), fill=color, outline=color)\n",
    "                        \n",
    "                    # 文字描画\n",
    "                    if self.maze[x][y] == self.STR: #スタート\n",
    "                        draw.text((x * self.cW + (self.cW - self.textData[4][1]) / 2, y * self.cH + (self.cH - self.textData[4][2]) / 2), self.textData[4][0], fill=self.textColor)\n",
    "                    elif self.maze[x][y] == self.GOL: #ゴール\n",
    "                        draw.text((x * self.cW + (self.cW - self.textData[5][1]) / 2, y * self.cH + (self.cH - self.textData[5][2]) / 2), self.textData[5][0], fill=self.textColor)\n",
    "                    \n",
    "                    actionMax = learning.qVal[x][y][Action.MAX]\n",
    "                    actions = Action.max_to_actions(actionMax)\n",
    "                    if Action.UP in actions: #UP\n",
    "                        draw.text((x * self.cW + (self.cW - self.textData[0][1]) / 2, y * self.cH + (self.cH - self.textData[0][2]) / 2), self.textData[0][0], fill=self.textColor)\n",
    "                    if Action.DOWN in actions: #DOWN\n",
    "                        draw.text((x * self.cW + (self.cW - self.textData[1][1]) / 2, y * self.cH + (self.cH - self.textData[1][2]) / 2), self.textData[1][0], fill=self.textColor)\n",
    "                    if Action.RIGHT in actions: #RIGHT\n",
    "                        draw.text((x * self.cW + (self.cW - self.textData[2][1]) / 2, y * self.cH + (self.cH - self.textData[2][2]) / 2), self.textData[2][0], fill=self.textColor)\n",
    "                    if Action.LEFT in actions: #LEFT\n",
    "                        draw.text((x * self.cW + (self.cW - self.textData[3][1]) / 2, y * self.cH + (self.cH - self.textData[3][2]) / 2), self.textData[3][0], fill=self.textColor)\n",
    "        im.save('output/images/img_' + str(self.imgIdx)+ '.jpg')\n",
    "        self.imgIdx = self.imgIdx + 1"
   ]
  },
  {
   "cell_type": "code",
   "execution_count": 3,
   "metadata": {},
   "outputs": [],
   "source": [
    "# maze = [\n",
    "#     [1, 1, 1, 1, 1],\n",
    "#     [1, 'S', 1, 1, 1],\n",
    "#     [1, 0, 0, 1, 1],\n",
    "#     [1, 1, 0, 'G', 1],\n",
    "#     [1, 1, 1, 1, 1]\n",
    "# ]\n",
    "# # 迷路描画機能\n",
    "# imgW = 800\n",
    "# imgH = 800\n",
    "# draw = DrawMaze(imgW, imgH, maze)"
   ]
  },
  {
   "cell_type": "code",
   "execution_count": null,
   "metadata": {},
   "outputs": [],
   "source": []
  }
 ],
 "metadata": {
  "kernelspec": {
   "display_name": "Python 3",
   "language": "python",
   "name": "python3"
  },
  "language_info": {
   "codemirror_mode": {
    "name": "ipython",
    "version": 3
   },
   "file_extension": ".py",
   "mimetype": "text/x-python",
   "name": "python",
   "nbconvert_exporter": "python",
   "pygments_lexer": "ipython3",
   "version": "3.7.4"
  }
 },
 "nbformat": 4,
 "nbformat_minor": 2
}
