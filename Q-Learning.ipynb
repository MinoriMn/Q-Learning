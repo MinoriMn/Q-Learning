{
 "cells": [
  {
   "cell_type": "markdown",
   "metadata": {},
   "source": [
    "# Q学習用クラス\n",
    "## Q data\n",
    "`Q[x座標][y座標][\"上\",\"下\",\"右\",\"左\",\"B\"]`\n",
    "\n",
    "`\"上\",\"下\",\"右\",\"左\"`->Q値\n",
    "\n",
    "`\"B\"`->その時点での最大Q値の方向(\"上\",\"下\",\"右\",\"左\", \"\")\n",
    "\n",
    "QData側では壁と道の区別はしない"
   ]
  },
  {
   "cell_type": "code",
   "execution_count": 1,
   "metadata": {},
   "outputs": [
    {
     "ename": "IndentationError",
     "evalue": "expected an indented block (<ipython-input-1-ee320532872e>, line 19)",
     "output_type": "error",
     "traceback": [
      "\u001b[0;36m  File \u001b[0;32m\"<ipython-input-1-ee320532872e>\"\u001b[0;36m, line \u001b[0;32m19\u001b[0m\n\u001b[0;31m    def update_QData(self, parameter):\u001b[0m\n\u001b[0m      ^\u001b[0m\n\u001b[0;31mIndentationError\u001b[0m\u001b[0;31m:\u001b[0m expected an indented block\n"
     ]
    }
   ],
   "source": [
    "class QLearning:\n",
    "    PATH = 0 #道\n",
    "    WALL = 1 #壁\n",
    "    \n",
    "    # rewardData ... 報酬データ[x][y] = 報酬値\n",
    "    def __init__(self, width, height, rewardData):\n",
    "        self.width = width\n",
    "        self.height = height\n",
    "        self.QData = []\n",
    "        self.rewardData = rewardData\n",
    "        for x in range(0, self.width):\n",
    "            QRow = []\n",
    "            for y in range(0, self.height):\n",
    "                QRow.append({\"上\" : 0, \"下\" : 0, \"右\" : 0, \"左\" : 0, \"B\" : \"\"})\n",
    "            self.QData.append(QRow)\n",
    "        \n",
    "    def get_next_state(self, x, y):\n",
    "        \n",
    "    def update_QData(self, parameter):\n",
    "        \n",
    "    def is_in_maze(self, x, y):\n",
    "        if (x < 0) or (y < 0) or (x > self.width) or (y > self.height):\n",
    "            return False\n",
    "        else:\n",
    "            return True\n",
    "        "
   ]
  },
  {
   "cell_type": "code",
   "execution_count": null,
   "metadata": {},
   "outputs": [],
   "source": []
  }
 ],
 "metadata": {
  "kernelspec": {
   "display_name": "Python 3",
   "language": "python",
   "name": "python3"
  },
  "language_info": {
   "codemirror_mode": {
    "name": "ipython",
    "version": 3
   },
   "file_extension": ".py",
   "mimetype": "text/x-python",
   "name": "python",
   "nbconvert_exporter": "python",
   "pygments_lexer": "ipython3",
   "version": "3.7.4"
  }
 },
 "nbformat": 4,
 "nbformat_minor": 2
}
